{
 "cells": [
  {
   "cell_type": "markdown",
   "id": "1e8c4b65-81d8-42b8-accb-054b74c10f78",
   "metadata": {},
   "source": [
    "# <font color='Yellow'>Python Basics</font>"
   ]
  },
  {
   "cell_type": "markdown",
   "id": "e88332f6-c5c5-4173-8ae5-1c166be35acc",
   "metadata": {},
   "source": [
    "# First Code"
   ]
  },
  {
   "cell_type": "code",
   "execution_count": 1,
   "id": "203f5a35-4d62-463e-ac86-4dc3de51617c",
   "metadata": {},
   "outputs": [
    {
     "name": "stdout",
     "output_type": "stream",
     "text": [
      "Hello World\n"
     ]
    }
   ],
   "source": [
    "print(\"Hello World\")"
   ]
  },
  {
   "cell_type": "markdown",
   "id": "d332b89e-2f89-4206-b77b-a88faaa9b433",
   "metadata": {},
   "source": [
    "# Variables and Datatypes(are auto-detected)"
   ]
  },
  {
   "cell_type": "code",
   "execution_count": 2,
   "id": "98664c95-77ed-4e38-b2a4-93408f3273c9",
   "metadata": {},
   "outputs": [],
   "source": [
    "x = 10\n",
    "y = 9.5\n",
    "z = \"SRJ\"\n",
    "a = \"A\"\n",
    "b = 5 + 9j"
   ]
  },
  {
   "cell_type": "code",
   "execution_count": 3,
   "id": "5f25395a-890e-4c2c-91dd-bf692bcae77c",
   "metadata": {},
   "outputs": [
    {
     "name": "stdout",
     "output_type": "stream",
     "text": [
      "<class 'int'>\n",
      "<class 'float'>\n",
      "<class 'str'>\n",
      "<class 'str'>\n",
      "<class 'complex'>\n"
     ]
    }
   ],
   "source": [
    "print(type(x))\n",
    "print(type(y))\n",
    "print(type(z))\n",
    "print(type(a))\n",
    "print(type(b))"
   ]
  },
  {
   "cell_type": "markdown",
   "id": "914a8727-684f-4313-b458-264629fc0696",
   "metadata": {},
   "source": [
    "# ORD and CHR"
   ]
  },
  {
   "cell_type": "code",
   "execution_count": 4,
   "id": "820fcbbc-8ade-45c8-8a99-6f838df301d8",
   "metadata": {},
   "outputs": [
    {
     "data": {
      "text/plain": [
       "97"
      ]
     },
     "execution_count": 4,
     "metadata": {},
     "output_type": "execute_result"
    }
   ],
   "source": [
    "ord('a')"
   ]
  },
  {
   "cell_type": "code",
   "execution_count": 5,
   "id": "7668a4f5-fbf5-4c54-b60b-96f4e44c163b",
   "metadata": {},
   "outputs": [
    {
     "data": {
      "text/plain": [
       "'a'"
      ]
     },
     "execution_count": 5,
     "metadata": {},
     "output_type": "execute_result"
    }
   ],
   "source": [
    "chr(97)"
   ]
  },
  {
   "cell_type": "markdown",
   "id": "6f39c912-2a6a-4332-ba77-cd72994861e1",
   "metadata": {},
   "source": [
    "# Strings and Manipulation "
   ]
  },
  {
   "cell_type": "code",
   "execution_count": 6,
   "id": "9d3ba798-8917-4af6-ab62-977ee87e4fd3",
   "metadata": {},
   "outputs": [],
   "source": [
    "x = \"Hari\"\n",
    "y = \"Gopal\""
   ]
  },
  {
   "cell_type": "code",
   "execution_count": 7,
   "id": "4ef8813e-2493-4341-8032-db3376a3d62e",
   "metadata": {},
   "outputs": [
    {
     "name": "stdout",
     "output_type": "stream",
     "text": [
      "HariHariHariHariHari\n"
     ]
    }
   ],
   "source": [
    "print(x*5)"
   ]
  },
  {
   "cell_type": "code",
   "execution_count": 8,
   "id": "9a27ddcb-a8f1-43e8-bba3-959d6c025ab3",
   "metadata": {},
   "outputs": [
    {
     "name": "stdout",
     "output_type": "stream",
     "text": [
      "HariGopal\n"
     ]
    }
   ],
   "source": [
    "print(x+y)"
   ]
  },
  {
   "cell_type": "code",
   "execution_count": 9,
   "id": "b03c02f9-9bba-4b0a-bf97-51fc709b7c54",
   "metadata": {},
   "outputs": [
    {
     "name": "stdout",
     "output_type": "stream",
     "text": [
      "Hari\n",
      "Gopal\n"
     ]
    }
   ],
   "source": [
    "print(x)\n",
    "print(y)"
   ]
  },
  {
   "cell_type": "markdown",
   "id": "f80f2013-7921-4c79-a2c9-1e87fe279fc5",
   "metadata": {},
   "source": [
    "- Slicining and Indexing"
   ]
  },
  {
   "cell_type": "code",
   "execution_count": 10,
   "id": "55bb5bf4-7b1b-472f-bc5a-2ba410881d19",
   "metadata": {},
   "outputs": [
    {
     "data": {
      "text/plain": [
       "'Hari'"
      ]
     },
     "execution_count": 10,
     "metadata": {},
     "output_type": "execute_result"
    }
   ],
   "source": [
    "x"
   ]
  },
  {
   "cell_type": "code",
   "execution_count": 11,
   "id": "169fb2e0-fc1d-42f9-9526-931c967ac46f",
   "metadata": {},
   "outputs": [
    {
     "data": {
      "text/plain": [
       "'H'"
      ]
     },
     "execution_count": 11,
     "metadata": {},
     "output_type": "execute_result"
    }
   ],
   "source": [
    "x[0]"
   ]
  },
  {
   "cell_type": "code",
   "execution_count": 12,
   "id": "cd5382fa-5d5d-4eb6-ad09-d6cf744acced",
   "metadata": {},
   "outputs": [
    {
     "data": {
      "text/plain": [
       "'a'"
      ]
     },
     "execution_count": 12,
     "metadata": {},
     "output_type": "execute_result"
    }
   ],
   "source": [
    "x[1]"
   ]
  },
  {
   "cell_type": "code",
   "execution_count": 13,
   "id": "fc22f70a-5c4d-4221-a668-427f679efaa9",
   "metadata": {},
   "outputs": [
    {
     "data": {
      "text/plain": [
       "'i'"
      ]
     },
     "execution_count": 13,
     "metadata": {},
     "output_type": "execute_result"
    }
   ],
   "source": [
    "x[-1]  # From Last"
   ]
  },
  {
   "cell_type": "code",
   "execution_count": 14,
   "id": "72492b08-22c0-4710-9e4f-04d64ad9b756",
   "metadata": {},
   "outputs": [
    {
     "data": {
      "text/plain": [
       "'Ha'"
      ]
     },
     "execution_count": 14,
     "metadata": {},
     "output_type": "execute_result"
    }
   ],
   "source": [
    "x[0:2]"
   ]
  },
  {
   "cell_type": "code",
   "execution_count": 15,
   "id": "b72d0ebf-97ba-40f7-90dc-ba058071acaa",
   "metadata": {},
   "outputs": [
    {
     "data": {
      "text/plain": [
       "'iraH'"
      ]
     },
     "execution_count": 15,
     "metadata": {},
     "output_type": "execute_result"
    }
   ],
   "source": [
    "x[-1::-1]"
   ]
  },
  {
   "cell_type": "code",
   "execution_count": 16,
   "id": "1b6ecd7d-318f-4711-9361-8cd7cf30839b",
   "metadata": {},
   "outputs": [
    {
     "data": {
      "text/plain": [
       "'iraH'"
      ]
     },
     "execution_count": 16,
     "metadata": {},
     "output_type": "execute_result"
    }
   ],
   "source": [
    "x[::-1]"
   ]
  },
  {
   "cell_type": "code",
   "execution_count": 17,
   "id": "27b195a1-3868-42d7-a95a-f847ec748c68",
   "metadata": {},
   "outputs": [
    {
     "data": {
      "text/plain": [
       "'ia'"
      ]
     },
     "execution_count": 17,
     "metadata": {},
     "output_type": "execute_result"
    }
   ],
   "source": [
    "x[::-2]"
   ]
  },
  {
   "cell_type": "code",
   "execution_count": 18,
   "id": "8b395d60-3aee-4bb0-854c-054bc90ecd58",
   "metadata": {},
   "outputs": [
    {
     "data": {
      "text/plain": [
       "'Hari'"
      ]
     },
     "execution_count": 18,
     "metadata": {},
     "output_type": "execute_result"
    }
   ],
   "source": [
    "x[:4]"
   ]
  },
  {
   "cell_type": "code",
   "execution_count": 19,
   "id": "91912867-b43b-4f73-8a51-3fdfc2093c5c",
   "metadata": {},
   "outputs": [
    {
     "data": {
      "text/plain": [
       "'ri'"
      ]
     },
     "execution_count": 19,
     "metadata": {},
     "output_type": "execute_result"
    }
   ],
   "source": [
    "x[2:]"
   ]
  },
  {
   "cell_type": "code",
   "execution_count": 20,
   "id": "90221d5f-d701-44e6-84e6-5de5fd2d693f",
   "metadata": {},
   "outputs": [
    {
     "data": {
      "text/plain": [
       "'Hari'"
      ]
     },
     "execution_count": 20,
     "metadata": {},
     "output_type": "execute_result"
    }
   ],
   "source": [
    "x[:]"
   ]
  },
  {
   "cell_type": "code",
   "execution_count": 21,
   "id": "1916aeb8-d5c8-4f53-ab34-7fa93cb61727",
   "metadata": {},
   "outputs": [
    {
     "data": {
      "text/plain": [
       "'Gopal'"
      ]
     },
     "execution_count": 21,
     "metadata": {},
     "output_type": "execute_result"
    }
   ],
   "source": [
    "y[:]"
   ]
  },
  {
   "cell_type": "code",
   "execution_count": 22,
   "id": "8fd47802-a40a-4bd2-aa05-6682d3d79a9d",
   "metadata": {},
   "outputs": [
    {
     "data": {
      "text/plain": [
       "'ripal'"
      ]
     },
     "execution_count": 22,
     "metadata": {},
     "output_type": "execute_result"
    }
   ],
   "source": [
    "x[2:] + y[2:]"
   ]
  },
  {
   "cell_type": "markdown",
   "id": "0256a15c-0207-47ee-a77b-e9671bb86a06",
   "metadata": {},
   "source": [
    "# Datasets - Lists, Tuples, Dictionay, Sets"
   ]
  },
  {
   "cell_type": "markdown",
   "id": "ac1f4e81-b539-4086-8edf-026f5f5dbb28",
   "metadata": {},
   "source": [
    "# Mutable Objects:\n",
    "## 1. Lists and manpulation"
   ]
  },
  {
   "cell_type": "code",
   "execution_count": 23,
   "id": "2bbc7c5b-f49d-4514-a95b-5c4bd305c439",
   "metadata": {},
   "outputs": [],
   "source": [
    "x = [1, 2, 3.4, 5.9]"
   ]
  },
  {
   "cell_type": "code",
   "execution_count": 24,
   "id": "643b2561-31f2-49e3-aca0-b3bb43f50976",
   "metadata": {},
   "outputs": [
    {
     "name": "stdout",
     "output_type": "stream",
     "text": [
      "<class 'list'>\n"
     ]
    }
   ],
   "source": [
    "print(type(x))"
   ]
  },
  {
   "cell_type": "code",
   "execution_count": 25,
   "id": "21592aa3-fdff-4720-97cb-364819e29d56",
   "metadata": {},
   "outputs": [
    {
     "data": {
      "text/plain": [
       "2"
      ]
     },
     "execution_count": 25,
     "metadata": {},
     "output_type": "execute_result"
    }
   ],
   "source": [
    "x[1]"
   ]
  },
  {
   "cell_type": "code",
   "execution_count": 26,
   "id": "fdda0ea0-d5d7-432a-aee9-b97f260c2c14",
   "metadata": {},
   "outputs": [
    {
     "data": {
      "text/plain": [
       "1"
      ]
     },
     "execution_count": 26,
     "metadata": {},
     "output_type": "execute_result"
    }
   ],
   "source": [
    "x[0]"
   ]
  },
  {
   "cell_type": "code",
   "execution_count": 27,
   "id": "26a7aaa3-06c2-4707-a004-d4fc34e70940",
   "metadata": {},
   "outputs": [
    {
     "data": {
      "text/plain": [
       "[1, 2, 3.4, 5.9]"
      ]
     },
     "execution_count": 27,
     "metadata": {},
     "output_type": "execute_result"
    }
   ],
   "source": [
    "x[:]"
   ]
  },
  {
   "cell_type": "code",
   "execution_count": 28,
   "id": "90086276-d927-4aaa-afe4-0319d872ffb9",
   "metadata": {},
   "outputs": [
    {
     "data": {
      "text/plain": [
       "[5.9, 3.4, 2, 1]"
      ]
     },
     "execution_count": 28,
     "metadata": {},
     "output_type": "execute_result"
    }
   ],
   "source": [
    "x[::-1]"
   ]
  },
  {
   "cell_type": "code",
   "execution_count": 29,
   "id": "45a25556-7655-4737-ac65-908066efc916",
   "metadata": {},
   "outputs": [
    {
     "data": {
      "text/plain": [
       "[3.4, 5.9]"
      ]
     },
     "execution_count": 29,
     "metadata": {},
     "output_type": "execute_result"
    }
   ],
   "source": [
    "x[2:]"
   ]
  },
  {
   "cell_type": "code",
   "execution_count": 30,
   "id": "dfed822f-62b1-4b49-bb9f-a6453c5e87cc",
   "metadata": {},
   "outputs": [],
   "source": [
    "x[1] = 9"
   ]
  },
  {
   "cell_type": "code",
   "execution_count": 31,
   "id": "b5fb59bc-f8f8-488d-afed-c9972fe553ef",
   "metadata": {},
   "outputs": [
    {
     "name": "stdout",
     "output_type": "stream",
     "text": [
      "[1, 9, 3.4, 5.9]\n"
     ]
    }
   ],
   "source": [
    "print(x)"
   ]
  },
  {
   "cell_type": "code",
   "execution_count": 32,
   "id": "8605bf23-7cea-4819-aabb-837f1f37f7b8",
   "metadata": {},
   "outputs": [],
   "source": [
    "y = [1, 2, 3]"
   ]
  },
  {
   "cell_type": "code",
   "execution_count": 33,
   "id": "54bf8f5b-42ca-4438-bf63-c6491812d357",
   "metadata": {},
   "outputs": [
    {
     "name": "stdout",
     "output_type": "stream",
     "text": [
      "[1, 9, 3.4, 5.9, 1, 2, 3]\n"
     ]
    }
   ],
   "source": [
    "print(x+y)"
   ]
  },
  {
   "cell_type": "code",
   "execution_count": 34,
   "id": "0907ea35-db12-4e21-ae9f-dbdc71eee81f",
   "metadata": {},
   "outputs": [
    {
     "name": "stdout",
     "output_type": "stream",
     "text": [
      "5.9\n"
     ]
    }
   ],
   "source": [
    "print(x.pop())"
   ]
  },
  {
   "cell_type": "code",
   "execution_count": 35,
   "id": "d302fa96-8725-4350-89eb-6f0b9ab63174",
   "metadata": {},
   "outputs": [
    {
     "name": "stdout",
     "output_type": "stream",
     "text": [
      "None\n",
      "[1, 55, 9, 3.4]\n"
     ]
    }
   ],
   "source": [
    "print(x.insert(1, 55))\n",
    "print(x)"
   ]
  },
  {
   "cell_type": "code",
   "execution_count": 36,
   "id": "9d522584-d481-4138-819e-96371907dc45",
   "metadata": {},
   "outputs": [
    {
     "name": "stdout",
     "output_type": "stream",
     "text": [
      "[55, 9, 3.4]\n"
     ]
    }
   ],
   "source": [
    "x.remove(1)\n",
    "print(x)"
   ]
  },
  {
   "cell_type": "code",
   "execution_count": 37,
   "id": "35a48933-85b3-4d98-b6f0-9de5494f3e1f",
   "metadata": {},
   "outputs": [
    {
     "name": "stdout",
     "output_type": "stream",
     "text": [
      "[55, 9, 3.4, 4]\n"
     ]
    }
   ],
   "source": [
    "x.append(4)\n",
    "print(x)"
   ]
  },
  {
   "cell_type": "markdown",
   "id": "fa105776-38ce-48c7-ac38-dca629be562c",
   "metadata": {},
   "source": [
    "## 2. Dictionary and Manipulation"
   ]
  },
  {
   "cell_type": "code",
   "execution_count": 38,
   "id": "d1cbbed6-d38e-413d-8f01-99b34b09b753",
   "metadata": {},
   "outputs": [],
   "source": [
    "x = {\n",
    "    1:\"ONE\",\n",
    "    2:\"two\",\n",
    "    \"three\":3\n",
    "}"
   ]
  },
  {
   "cell_type": "code",
   "execution_count": 39,
   "id": "98a7b3f2-d059-4c97-be25-4bd4f851ac86",
   "metadata": {},
   "outputs": [
    {
     "name": "stdout",
     "output_type": "stream",
     "text": [
      "<class 'dict'>\n"
     ]
    }
   ],
   "source": [
    "print(type(x))"
   ]
  },
  {
   "cell_type": "code",
   "execution_count": 40,
   "id": "e73e466b-9506-423b-ad9f-eaeddb19ecb2",
   "metadata": {},
   "outputs": [
    {
     "name": "stdout",
     "output_type": "stream",
     "text": [
      "dict_keys([1, 2, 'three'])\n"
     ]
    }
   ],
   "source": [
    "print(x.keys())"
   ]
  },
  {
   "cell_type": "code",
   "execution_count": 41,
   "id": "b862a94a-95dd-4d85-969f-8e4542d08481",
   "metadata": {},
   "outputs": [
    {
     "name": "stdout",
     "output_type": "stream",
     "text": [
      "dict_values(['ONE', 'two', 3])\n"
     ]
    }
   ],
   "source": [
    "print(x.values())"
   ]
  },
  {
   "cell_type": "code",
   "execution_count": 42,
   "id": "ec76f3a4-2f56-49ac-a706-06c9d249aed5",
   "metadata": {},
   "outputs": [],
   "source": [
    "x[\"four\"] = 4"
   ]
  },
  {
   "cell_type": "code",
   "execution_count": 43,
   "id": "5b99123f-3143-4683-9491-55d4f4712fb3",
   "metadata": {},
   "outputs": [
    {
     "name": "stdout",
     "output_type": "stream",
     "text": [
      "{1: 'ONE', 2: 'two', 'three': 3, 'four': 4}\n"
     ]
    }
   ],
   "source": [
    "print(x)"
   ]
  },
  {
   "cell_type": "code",
   "execution_count": 44,
   "id": "f343f58d-231a-44e0-9c72-e42e3fd193a1",
   "metadata": {},
   "outputs": [
    {
     "name": "stdout",
     "output_type": "stream",
     "text": [
      "dict_keys([1, 2, 'three', 'four'])\n",
      "dict_values(['ONE', 'two', 3, 4])\n"
     ]
    }
   ],
   "source": [
    "print(x.keys())\n",
    "print(x.values())"
   ]
  },
  {
   "cell_type": "code",
   "execution_count": 45,
   "id": "a38d28ee-9c50-4457-a566-e8f8bcbdcfa9",
   "metadata": {},
   "outputs": [
    {
     "name": "stdout",
     "output_type": "stream",
     "text": [
      "two\n"
     ]
    }
   ],
   "source": [
    "print(x.get(2))"
   ]
  },
  {
   "cell_type": "code",
   "execution_count": 46,
   "id": "a91e6f9d-d6b4-4f80-add4-b3fbc2224171",
   "metadata": {},
   "outputs": [
    {
     "name": "stdout",
     "output_type": "stream",
     "text": [
      "{1: 1, 2: 'two', 'three': 3, 'four': 4}\n"
     ]
    }
   ],
   "source": [
    "# Changing Values\n",
    "\n",
    "x[1] = 1\n",
    "print(x)"
   ]
  },
  {
   "cell_type": "markdown",
   "id": "810009a3-f056-4610-9499-278a63e9a495",
   "metadata": {},
   "source": [
    "# Immutable Objects\n",
    "## 3. Sets just like done in Mathematics"
   ]
  },
  {
   "cell_type": "code",
   "execution_count": 47,
   "id": "6910741e-577e-40db-9d6c-14e0ce313c35",
   "metadata": {},
   "outputs": [],
   "source": [
    "x = {1, 2, 3, 4}"
   ]
  },
  {
   "cell_type": "code",
   "execution_count": 48,
   "id": "48ef3bfd-6c7e-40cb-bac7-0da0597558c7",
   "metadata": {},
   "outputs": [
    {
     "name": "stdout",
     "output_type": "stream",
     "text": [
      "{1, 2, 3, 4}\n",
      "<class 'set'>\n"
     ]
    }
   ],
   "source": [
    "print(x)\n",
    "print(type(x))"
   ]
  },
  {
   "cell_type": "code",
   "execution_count": 49,
   "id": "4fc43e1a-e755-466e-a2da-e4f3513f86f8",
   "metadata": {},
   "outputs": [],
   "source": [
    "y = {1, 2, 3, 5}"
   ]
  },
  {
   "cell_type": "code",
   "execution_count": 50,
   "id": "e889af79-d13d-49a5-b3ff-b46a1643721d",
   "metadata": {},
   "outputs": [
    {
     "name": "stdout",
     "output_type": "stream",
     "text": [
      "{1, 2, 3, 4, 5}\n"
     ]
    }
   ],
   "source": [
    "print(x.union(y))"
   ]
  },
  {
   "cell_type": "code",
   "execution_count": 51,
   "id": "d39d3204-e606-41e4-bf40-2463c34d1e18",
   "metadata": {},
   "outputs": [
    {
     "name": "stdout",
     "output_type": "stream",
     "text": [
      "{1, 2, 3}\n"
     ]
    }
   ],
   "source": [
    "print(x.intersection(y))"
   ]
  },
  {
   "cell_type": "code",
   "execution_count": 52,
   "id": "0ffeac41-2696-4dda-9cc1-91b9f5d03b59",
   "metadata": {},
   "outputs": [
    {
     "data": {
      "text/plain": [
       "1"
      ]
     },
     "execution_count": 52,
     "metadata": {},
     "output_type": "execute_result"
    }
   ],
   "source": [
    "x.pop()"
   ]
  },
  {
   "cell_type": "code",
   "execution_count": 53,
   "id": "67e18663-ece2-48bb-b335-c3904fa38fd7",
   "metadata": {},
   "outputs": [
    {
     "name": "stdout",
     "output_type": "stream",
     "text": [
      "{2, 3, 4}\n"
     ]
    }
   ],
   "source": [
    "print(x)"
   ]
  },
  {
   "cell_type": "code",
   "execution_count": 54,
   "id": "a271a009-3d52-4751-bcec-41ce06d7a136",
   "metadata": {},
   "outputs": [],
   "source": [
    "x.remove(3)"
   ]
  },
  {
   "cell_type": "code",
   "execution_count": 55,
   "id": "1bf1d043-9e71-419e-93f5-f7ecc407a852",
   "metadata": {},
   "outputs": [
    {
     "name": "stdout",
     "output_type": "stream",
     "text": [
      "{2, 4}\n"
     ]
    }
   ],
   "source": [
    "print(x)"
   ]
  },
  {
   "cell_type": "markdown",
   "id": "7148892e-4871-4b73-9302-bd9cdaa1b109",
   "metadata": {},
   "source": [
    "## 4. Tuples"
   ]
  },
  {
   "cell_type": "code",
   "execution_count": 56,
   "id": "75825582-ea14-4724-9b72-b26ab19fb8ef",
   "metadata": {},
   "outputs": [],
   "source": [
    "x = (1, 2, 3, 1)"
   ]
  },
  {
   "cell_type": "code",
   "execution_count": 57,
   "id": "18c11deb-20b6-4efb-8dce-770610c91931",
   "metadata": {},
   "outputs": [
    {
     "name": "stdout",
     "output_type": "stream",
     "text": [
      "(1, 2, 3, 1)\n",
      "<class 'tuple'>\n"
     ]
    }
   ],
   "source": [
    "print(x)\n",
    "print(type(x))"
   ]
  },
  {
   "cell_type": "code",
   "execution_count": 58,
   "id": "94a44179-77d7-4c11-883f-13bc4a67bf3e",
   "metadata": {},
   "outputs": [
    {
     "data": {
      "text/plain": [
       "2"
      ]
     },
     "execution_count": 58,
     "metadata": {},
     "output_type": "execute_result"
    }
   ],
   "source": [
    "x.count(1)"
   ]
  },
  {
   "cell_type": "code",
   "execution_count": 59,
   "id": "d4a7461e-6d83-48f5-b4f3-6395ca8714a8",
   "metadata": {},
   "outputs": [
    {
     "data": {
      "text/plain": [
       "0"
      ]
     },
     "execution_count": 59,
     "metadata": {},
     "output_type": "execute_result"
    }
   ],
   "source": [
    "x.index(1)"
   ]
  },
  {
   "cell_type": "code",
   "execution_count": 60,
   "id": "09adc478-2ca3-4062-b774-2050988e6626",
   "metadata": {},
   "outputs": [
    {
     "data": {
      "text/plain": [
       "1"
      ]
     },
     "execution_count": 60,
     "metadata": {},
     "output_type": "execute_result"
    }
   ],
   "source": [
    "x.index(2)"
   ]
  },
  {
   "cell_type": "markdown",
   "id": "0a102504-8299-42cd-bd56-76619f8334a3",
   "metadata": {},
   "source": [
    "# Type Convertion and Inputs"
   ]
  },
  {
   "cell_type": "markdown",
   "id": "455f7050-ef04-40cd-ad88-43678beda705",
   "metadata": {},
   "source": [
    "- Input"
   ]
  },
  {
   "cell_type": "code",
   "execution_count": 61,
   "id": "28523f7a-ee3a-4f14-a3ca-b89e80964549",
   "metadata": {},
   "outputs": [
    {
     "name": "stdin",
     "output_type": "stream",
     "text": [
      "Enter Something :  Hey Bey\n"
     ]
    }
   ],
   "source": [
    "x = input(\"Enter Something : \")  # Default is String"
   ]
  },
  {
   "cell_type": "code",
   "execution_count": 62,
   "id": "8093c0a7-b51d-47db-addb-df96c8a31c99",
   "metadata": {},
   "outputs": [
    {
     "name": "stdout",
     "output_type": "stream",
     "text": [
      "Hey Bey\n"
     ]
    }
   ],
   "source": [
    "print(x)"
   ]
  },
  {
   "cell_type": "markdown",
   "id": "b36033f9-88c3-42b4-9aa4-0d515c698828",
   "metadata": {},
   "source": [
    "- Type Convertion"
   ]
  },
  {
   "cell_type": "code",
   "execution_count": 63,
   "id": "90ffa3a5-4c52-43ee-a68e-3595518c6f17",
   "metadata": {},
   "outputs": [
    {
     "data": {
      "text/plain": [
       "int"
      ]
     },
     "execution_count": 63,
     "metadata": {},
     "output_type": "execute_result"
    }
   ],
   "source": [
    "x = 9\n",
    "type(x)"
   ]
  },
  {
   "cell_type": "code",
   "execution_count": 64,
   "id": "d16b0a75-2adc-4341-9519-f1146f20cee3",
   "metadata": {},
   "outputs": [],
   "source": [
    "y = float(x)"
   ]
  },
  {
   "cell_type": "code",
   "execution_count": 65,
   "id": "006d3a4f-b39d-4e1f-85c1-7d46120561c8",
   "metadata": {},
   "outputs": [
    {
     "name": "stdout",
     "output_type": "stream",
     "text": [
      "9.0\n",
      "<class 'float'>\n"
     ]
    }
   ],
   "source": [
    "print(y)\n",
    "print(type(y))"
   ]
  },
  {
   "cell_type": "code",
   "execution_count": 66,
   "id": "c69b0079-4f59-4fb5-817b-f9b63ec47208",
   "metadata": {},
   "outputs": [
    {
     "name": "stdout",
     "output_type": "stream",
     "text": [
      "9.0\n"
     ]
    }
   ],
   "source": [
    "z = str(y)\n",
    "print(z)"
   ]
  },
  {
   "cell_type": "code",
   "execution_count": 67,
   "id": "481cb650-f2d1-43dc-8fd3-f79077d70b07",
   "metadata": {},
   "outputs": [],
   "source": [
    "a = complex(x)"
   ]
  },
  {
   "cell_type": "code",
   "execution_count": 68,
   "id": "ae229029-e2a9-4d51-bc07-1070ecc9543d",
   "metadata": {},
   "outputs": [
    {
     "name": "stdout",
     "output_type": "stream",
     "text": [
      "(9+0j)\n"
     ]
    }
   ],
   "source": [
    "print(a)"
   ]
  },
  {
   "cell_type": "code",
   "execution_count": 69,
   "id": "fde5e586-764c-4d1d-b51d-4143706fdbce",
   "metadata": {},
   "outputs": [
    {
     "name": "stdout",
     "output_type": "stream",
     "text": [
      "9\n"
     ]
    }
   ],
   "source": [
    "a = \"9\"\n",
    "a = int(a)\n",
    "print(a)"
   ]
  },
  {
   "cell_type": "markdown",
   "id": "c40d89d6-b138-47e8-b324-621c01538c97",
   "metadata": {},
   "source": [
    "# Conditional Statements : If Else Elif"
   ]
  },
  {
   "cell_type": "code",
   "execution_count": 70,
   "id": "3f3650a8-1169-4150-a2b3-be1c76f62c2f",
   "metadata": {},
   "outputs": [
    {
     "name": "stdin",
     "output_type": "stream",
     "text": [
      "Enter a number :  9\n"
     ]
    }
   ],
   "source": [
    "x = int(input(\"Enter a number : \"))"
   ]
  },
  {
   "cell_type": "code",
   "execution_count": 71,
   "id": "aa73b01e-43d9-4559-bc7a-b26d7a431da0",
   "metadata": {},
   "outputs": [
    {
     "name": "stdout",
     "output_type": "stream",
     "text": [
      "Odd\n"
     ]
    }
   ],
   "source": [
    "if x == 0:\n",
    "    print(0)\n",
    "elif x % 2 == 0:\n",
    "    print(\"Even\")\n",
    "else:\n",
    "    print(\"Odd\")"
   ]
  },
  {
   "cell_type": "code",
   "execution_count": 72,
   "id": "4d75c65f-7182-4cd7-9dd4-75d6d18b438f",
   "metadata": {},
   "outputs": [
    {
     "name": "stdin",
     "output_type": "stream",
     "text": [
      "Enter a number :  0\n"
     ]
    },
    {
     "name": "stdout",
     "output_type": "stream",
     "text": [
      "0\n"
     ]
    }
   ],
   "source": [
    "x = int(input(\"Enter a number : \"))\n",
    "if x == 0:\n",
    "    print(0)\n",
    "elif x % 2 == 0:\n",
    "    print(\"Even\")\n",
    "else:\n",
    "    print(\"Odd\")"
   ]
  },
  {
   "cell_type": "code",
   "execution_count": 73,
   "id": "5b58a66c-d36d-4be9-bfdb-4de1183ba8fe",
   "metadata": {},
   "outputs": [
    {
     "name": "stdin",
     "output_type": "stream",
     "text": [
      "Enter a number :  5\n"
     ]
    },
    {
     "name": "stdout",
     "output_type": "stream",
     "text": [
      "Odd\n"
     ]
    }
   ],
   "source": [
    "x = int(input(\"Enter a number : \"))\n",
    "if x == 0:\n",
    "    print(0)\n",
    "elif x % 2 == 0:\n",
    "    print(\"Even\")\n",
    "else:\n",
    "    print(\"Odd\")"
   ]
  },
  {
   "cell_type": "markdown",
   "id": "168429be-1df2-475f-a05d-4c6264ad200f",
   "metadata": {},
   "source": [
    "# Looping Statements"
   ]
  },
  {
   "cell_type": "code",
   "execution_count": 74,
   "id": "b5463696-84e8-4ce8-9503-0cb8f5cfd158",
   "metadata": {},
   "outputs": [
    {
     "name": "stdin",
     "output_type": "stream",
     "text": [
      "Enter a number :  9\n"
     ]
    }
   ],
   "source": [
    "x = int(input(\"Enter a number : \"))"
   ]
  },
  {
   "cell_type": "markdown",
   "id": "6a627a01-8001-4562-8ffa-9b704bdeee2e",
   "metadata": {},
   "source": [
    "- For Loop : "
   ]
  },
  {
   "cell_type": "code",
   "execution_count": 75,
   "id": "1190e682-9d52-4d82-abe2-8ee6e8d47778",
   "metadata": {},
   "outputs": [
    {
     "name": "stdout",
     "output_type": "stream",
     "text": [
      "9 X 0 = 0\n",
      "9 X 1 = 9\n",
      "9 X 2 = 18\n",
      "9 X 3 = 27\n",
      "9 X 4 = 36\n",
      "9 X 5 = 45\n",
      "9 X 6 = 54\n",
      "9 X 7 = 63\n",
      "9 X 8 = 72\n",
      "9 X 9 = 81\n",
      "9 X 10 = 90\n"
     ]
    }
   ],
   "source": [
    "for i in range(0, 11):\n",
    "    print(f\"{x} X {i} = {x*i}\")"
   ]
  },
  {
   "cell_type": "code",
   "execution_count": 76,
   "id": "5848ee38-2b77-44e3-b34a-6d75f9e36ea8",
   "metadata": {},
   "outputs": [
    {
     "name": "stdout",
     "output_type": "stream",
     "text": [
      "0\n",
      "2\n",
      "4\n",
      "6\n",
      "8\n",
      "10\n"
     ]
    }
   ],
   "source": [
    "for i in range(0, 11, 2):\n",
    "    print(i)"
   ]
  },
  {
   "cell_type": "code",
   "execution_count": 77,
   "id": "851ddbac-5c24-4d40-be80-22f0d2cf8673",
   "metadata": {},
   "outputs": [
    {
     "name": "stdout",
     "output_type": "stream",
     "text": [
      "11\n",
      "9\n",
      "7\n",
      "5\n",
      "3\n",
      "1\n"
     ]
    }
   ],
   "source": [
    "for i in range(11, 0, -2):\n",
    "    print(i)"
   ]
  },
  {
   "cell_type": "code",
   "execution_count": 78,
   "id": "73aed605-07fe-49bb-a835-b123a752c5c7",
   "metadata": {},
   "outputs": [],
   "source": [
    "x = [1, 2, 3, 5.9]"
   ]
  },
  {
   "cell_type": "code",
   "execution_count": 79,
   "id": "99268373-f5ff-4972-b881-cda7bb1e26b4",
   "metadata": {},
   "outputs": [
    {
     "name": "stdout",
     "output_type": "stream",
     "text": [
      "1\n",
      "2\n",
      "3\n",
      "5.9\n"
     ]
    }
   ],
   "source": [
    "for i in x:\n",
    "    print(i)"
   ]
  },
  {
   "cell_type": "code",
   "execution_count": 80,
   "id": "6d0310d7-79cc-4e19-8fcf-198ec3d97f24",
   "metadata": {},
   "outputs": [
    {
     "name": "stdout",
     "output_type": "stream",
     "text": [
      "1 0\n",
      "2 1\n",
      "3 2\n",
      "5.9 3\n"
     ]
    }
   ],
   "source": [
    "for i in range(len(x)):\n",
    "    print(x[i], i)"
   ]
  },
  {
   "cell_type": "code",
   "execution_count": 81,
   "id": "b4a042a9-5fee-48d6-89fb-fffeb86a41a2",
   "metadata": {},
   "outputs": [],
   "source": [
    "x = {\n",
    "    1:\"One\",\n",
    "    2:2,\n",
    "    3:3\n",
    "}"
   ]
  },
  {
   "cell_type": "code",
   "execution_count": 82,
   "id": "40620336-0d71-42e5-b441-b9270b03e309",
   "metadata": {},
   "outputs": [
    {
     "name": "stdout",
     "output_type": "stream",
     "text": [
      "1 One\n",
      "2 2\n",
      "3 3\n"
     ]
    }
   ],
   "source": [
    "for i, j in x.items():\n",
    "    print(i, j)"
   ]
  },
  {
   "cell_type": "code",
   "execution_count": 83,
   "id": "df304ed9-a316-49b9-8452-35ce64585166",
   "metadata": {},
   "outputs": [
    {
     "name": "stdout",
     "output_type": "stream",
     "text": [
      "One\n",
      "2\n",
      "3\n"
     ]
    }
   ],
   "source": [
    "for i in x.values():\n",
    "    print(i)"
   ]
  },
  {
   "cell_type": "code",
   "execution_count": 84,
   "id": "72b97b18-7064-40e8-b15e-2e2c515b6b1a",
   "metadata": {
    "tags": []
   },
   "outputs": [
    {
     "name": "stdout",
     "output_type": "stream",
     "text": [
      "1\n",
      "2\n",
      "3\n"
     ]
    }
   ],
   "source": [
    "for i in x.keys():\n",
    "    print(i)"
   ]
  },
  {
   "cell_type": "markdown",
   "id": "ccc6ac29-d7b9-4c4f-9adf-d93d942a1cdd",
   "metadata": {},
   "source": [
    "- While Loop"
   ]
  },
  {
   "cell_type": "code",
   "execution_count": 85,
   "id": "97ebb60f-3ab4-4134-9d52-c173b1527ef9",
   "metadata": {},
   "outputs": [
    {
     "name": "stdout",
     "output_type": "stream",
     "text": [
      "9\n",
      "18\n",
      "27\n",
      "36\n",
      "45\n",
      "54\n",
      "63\n",
      "72\n",
      "81\n",
      "90\n"
     ]
    }
   ],
   "source": [
    "x = 9\n",
    "i = 1\n",
    "while i < 11:\n",
    "    print(x*i)\n",
    "    i += 1"
   ]
  },
  {
   "cell_type": "markdown",
   "id": "173056f1-8458-48c8-93ee-c0ba9739fceb",
   "metadata": {},
   "source": [
    "# <font color = \"yellow\">Functions : Important Topic</font>"
   ]
  },
  {
   "cell_type": "code",
   "execution_count": 86,
   "id": "2f10f7d4-25eb-4b48-adba-578b37c208ad",
   "metadata": {},
   "outputs": [],
   "source": [
    "def print_vals():\n",
    "    print(\"Hey\")"
   ]
  },
  {
   "cell_type": "code",
   "execution_count": 87,
   "id": "5078fa1c-7d46-4d0d-aa8e-28f2089237dd",
   "metadata": {},
   "outputs": [
    {
     "name": "stdout",
     "output_type": "stream",
     "text": [
      "Hey\n"
     ]
    }
   ],
   "source": [
    "print_vals()"
   ]
  },
  {
   "cell_type": "code",
   "execution_count": 88,
   "id": "5fc1b0c7-ea30-43ad-adec-587041506030",
   "metadata": {},
   "outputs": [],
   "source": [
    "def sum_of_two(a,b):\n",
    "    c = a+b\n",
    "    print(c)"
   ]
  },
  {
   "cell_type": "code",
   "execution_count": 89,
   "id": "0bf26d2f-20c3-4e32-9312-3e218d6870a2",
   "metadata": {},
   "outputs": [],
   "source": [
    "a = 9\n",
    "b = 5"
   ]
  },
  {
   "cell_type": "code",
   "execution_count": 90,
   "id": "c5e346a6-b9cc-49cb-9b60-fe2a0bb664eb",
   "metadata": {},
   "outputs": [
    {
     "name": "stdout",
     "output_type": "stream",
     "text": [
      "14\n"
     ]
    }
   ],
   "source": [
    "sum_of_two(a, b)"
   ]
  },
  {
   "cell_type": "markdown",
   "id": "b15997cf-e38b-4180-8587-7ed5fc98bbf7",
   "metadata": {},
   "source": [
    "## Kwargs and Agrs"
   ]
  },
  {
   "cell_type": "code",
   "execution_count": 91,
   "id": "6d7f27f0-984f-4da0-8079-2a81e76fd409",
   "metadata": {},
   "outputs": [],
   "source": [
    "def argument(*args):\n",
    "    c = 0\n",
    "    for i in args:\n",
    "        c += i\n",
    "    print(c)"
   ]
  },
  {
   "cell_type": "code",
   "execution_count": 92,
   "id": "ec8c9686-984c-4326-85a0-381ff6042b36",
   "metadata": {},
   "outputs": [
    {
     "name": "stdout",
     "output_type": "stream",
     "text": [
      "15\n"
     ]
    }
   ],
   "source": [
    "argument(1, 2, 3, 4, 5)"
   ]
  },
  {
   "cell_type": "code",
   "execution_count": 93,
   "id": "a5678f4c-b578-483d-af50-8898b98a5ccd",
   "metadata": {},
   "outputs": [],
   "source": [
    "def keyword_arguments(**kwargs):\n",
    "    for i, j in kwargs.items():\n",
    "        print(i, j)"
   ]
  },
  {
   "cell_type": "code",
   "execution_count": 94,
   "id": "1f6eb0d7-6c76-4447-8138-5a3edbed80d4",
   "metadata": {},
   "outputs": [
    {
     "name": "stdout",
     "output_type": "stream",
     "text": [
      "first Hey\n",
      "mid You\n",
      "last Rock\n"
     ]
    }
   ],
   "source": [
    "keyword_arguments(first ='Hey', mid ='You', last='Rock')"
   ]
  },
  {
   "cell_type": "markdown",
   "id": "0cf2c1ad-eb90-4d05-b4ba-ee84c45ed1fe",
   "metadata": {},
   "source": [
    "## <font color=\"Yellow\">X----------------------------------End----of-----Python-Basics------------------------------------X</font>"
   ]
  },
  {
   "cell_type": "markdown",
   "id": "7ae02822-fbe8-4072-b3c5-eabd8fdeb203",
   "metadata": {},
   "source": [
    "# Classes and Objects"
   ]
  },
  {
   "cell_type": "code",
   "execution_count": 95,
   "id": "a1322022-76d7-41df-9ccc-b4443eae3fc6",
   "metadata": {},
   "outputs": [],
   "source": [
    "class A:             # Class\n",
    "    def sum(self):\n",
    "        print(2+3)"
   ]
  },
  {
   "cell_type": "code",
   "execution_count": 96,
   "id": "66daf069-7618-4d2c-9898-f92b06f38105",
   "metadata": {},
   "outputs": [
    {
     "name": "stdout",
     "output_type": "stream",
     "text": [
      "5\n"
     ]
    }
   ],
   "source": [
    "a = A()              # Object\n",
    "a.sum()"
   ]
  },
  {
   "cell_type": "markdown",
   "id": "f1e68e57-f13e-4576-ab21-6872e2662fa5",
   "metadata": {},
   "source": [
    "# Init Method - To take Input"
   ]
  },
  {
   "cell_type": "code",
   "execution_count": 97,
   "id": "872a41fb-9d45-4653-956c-b5b8d1504f2d",
   "metadata": {},
   "outputs": [],
   "source": [
    "class A:\n",
    "    def __init__(self, a , b):\n",
    "        self.a = a\n",
    "        self.b = b\n",
    "    def print_vals(self):\n",
    "        print(self.a, self.b)"
   ]
  },
  {
   "cell_type": "code",
   "execution_count": 98,
   "id": "31c94d61-f6f1-44f7-9209-8b2b0d33f80b",
   "metadata": {},
   "outputs": [
    {
     "ename": "TypeError",
     "evalue": "__init__() missing 2 required positional arguments: 'a' and 'b'",
     "output_type": "error",
     "traceback": [
      "\u001b[1;31m---------------------------------------------------------------------------\u001b[0m",
      "\u001b[1;31mTypeError\u001b[0m                                 Traceback (most recent call last)",
      "\u001b[1;32m<ipython-input-98-7f181d8f00b8>\u001b[0m in \u001b[0;36m<module>\u001b[1;34m\u001b[0m\n\u001b[1;32m----> 1\u001b[1;33m \u001b[0ma\u001b[0m \u001b[1;33m=\u001b[0m \u001b[0mA\u001b[0m\u001b[1;33m(\u001b[0m\u001b[1;33m)\u001b[0m\u001b[1;33m\u001b[0m\u001b[1;33m\u001b[0m\u001b[0m\n\u001b[0m",
      "\u001b[1;31mTypeError\u001b[0m: __init__() missing 2 required positional arguments: 'a' and 'b'"
     ]
    }
   ],
   "source": [
    "a = A()"
   ]
  },
  {
   "cell_type": "code",
   "execution_count": 99,
   "id": "fb9c879a-d3af-41c4-becd-a99ae6968d96",
   "metadata": {},
   "outputs": [],
   "source": [
    "a = A(2, 3)"
   ]
  },
  {
   "cell_type": "code",
   "execution_count": 100,
   "id": "a94084d3-81de-45ef-a78a-424c6fe137dc",
   "metadata": {},
   "outputs": [
    {
     "name": "stdout",
     "output_type": "stream",
     "text": [
      "2 3\n"
     ]
    }
   ],
   "source": [
    "a.print_vals()"
   ]
  },
  {
   "cell_type": "markdown",
   "id": "b2ae094e-5472-40bc-8980-1492fdbdcd46",
   "metadata": {},
   "source": [
    "# <font color=\"Pink\">OOPS Concept - One of the most Important Topics</font>"
   ]
  },
  {
   "cell_type": "markdown",
   "id": "8f352ea7-231d-493b-924c-1843f9585055",
   "metadata": {},
   "source": [
    "## <font color=\"Green\">Inheritance</font>"
   ]
  },
  {
   "cell_type": "markdown",
   "id": "76c026db-2891-4ff3-ae41-71f56c5b7b01",
   "metadata": {},
   "source": [
    "### 1. Single Inh."
   ]
  },
  {
   "cell_type": "code",
   "execution_count": 101,
   "id": "c4509232-2281-48db-be57-35e0ab28d89d",
   "metadata": {},
   "outputs": [],
   "source": [
    "class IDE:\n",
    "    def func(self):\n",
    "        print(\"Compiling and Running\")\n",
    "\n",
    "class Pycharm(IDE):\n",
    "    def func1(self):\n",
    "        print(\"Choose Interpreter Themes as well\")"
   ]
  },
  {
   "cell_type": "code",
   "execution_count": 102,
   "id": "5e569ee2-ac54-47bf-8b52-c650ec6c0170",
   "metadata": {},
   "outputs": [],
   "source": [
    "a = Pycharm()"
   ]
  },
  {
   "cell_type": "code",
   "execution_count": 103,
   "id": "afe0a574-35c8-44b3-aace-1c4677dc4533",
   "metadata": {},
   "outputs": [
    {
     "name": "stdout",
     "output_type": "stream",
     "text": [
      "Compiling and Running\n"
     ]
    }
   ],
   "source": [
    "a.func()"
   ]
  },
  {
   "cell_type": "code",
   "execution_count": 104,
   "id": "53e0caf5-20c5-4086-bac0-b41a380a8fca",
   "metadata": {},
   "outputs": [
    {
     "name": "stdout",
     "output_type": "stream",
     "text": [
      "Choose Interpreter Themes as well\n"
     ]
    }
   ],
   "source": [
    "a.func1()"
   ]
  },
  {
   "cell_type": "markdown",
   "id": "68153ff8-4e80-46c6-ab7f-949fd775c362",
   "metadata": {},
   "source": [
    "### 2. Multilevel Inh."
   ]
  },
  {
   "cell_type": "code",
   "execution_count": 105,
   "id": "79ebd402-f9c1-4faa-985e-75463f5e0e69",
   "metadata": {},
   "outputs": [],
   "source": [
    "class job:\n",
    "    def job(self):\n",
    "        print(\"Mine is Night Shift\")\n",
    "class person(job):\n",
    "    def person(self):\n",
    "        print(\"I am Human but I love to work at night\")\n",
    "class work_form_home(person):\n",
    "    def work_form_home(self):\n",
    "        print(\"I like to Work From Home\")"
   ]
  },
  {
   "cell_type": "code",
   "execution_count": 106,
   "id": "acd31737-c101-4939-89c1-d6512a8c5dca",
   "metadata": {},
   "outputs": [],
   "source": [
    "a = work_form_home()"
   ]
  },
  {
   "cell_type": "code",
   "execution_count": 107,
   "id": "3f382594-fdef-45d5-ae32-7b2458edcf5b",
   "metadata": {},
   "outputs": [
    {
     "name": "stdout",
     "output_type": "stream",
     "text": [
      "Mine is Night Shift\n"
     ]
    }
   ],
   "source": [
    "a.job()"
   ]
  },
  {
   "cell_type": "code",
   "execution_count": 108,
   "id": "ae833218-c283-4814-9ac6-2c6db8fc4a2e",
   "metadata": {},
   "outputs": [
    {
     "name": "stdout",
     "output_type": "stream",
     "text": [
      "I am Human but I love to work at night\n"
     ]
    }
   ],
   "source": [
    "a.person()"
   ]
  },
  {
   "cell_type": "code",
   "execution_count": 109,
   "id": "95870e23-b138-4bb1-aace-1de290aa8996",
   "metadata": {},
   "outputs": [
    {
     "name": "stdout",
     "output_type": "stream",
     "text": [
      "I like to Work From Home\n"
     ]
    }
   ],
   "source": [
    "a.work_form_home()"
   ]
  },
  {
   "cell_type": "markdown",
   "id": "3b916f8f-f1a6-4da9-91fe-8ec0be75772f",
   "metadata": {},
   "source": [
    "### 3. Multiple Inh."
   ]
  },
  {
   "cell_type": "code",
   "execution_count": 110,
   "id": "e7d0dca1-82db-4933-82ba-2d181a1152ef",
   "metadata": {},
   "outputs": [
    {
     "name": "stdout",
     "output_type": "stream",
     "text": [
      "b\n",
      "c\n",
      "d\n"
     ]
    }
   ],
   "source": [
    "class B:\n",
    "    def b(self):\n",
    "        print('b')\n",
    "\n",
    "\n",
    "class C:\n",
    "    def c(self):\n",
    "        print('c')\n",
    "\n",
    "\n",
    "class D(B, C):\n",
    "    def d(self):\n",
    "        print('d')\n",
    "\n",
    "\n",
    "d = D()\n",
    "d.b()\n",
    "d.c()\n",
    "d.d()"
   ]
  },
  {
   "cell_type": "markdown",
   "id": "50e6f28d-dd57-412e-a945-d1f0db31556f",
   "metadata": {},
   "source": [
    "# DATA Encapsulation : Packing All data inside a DEF Function is Data Encapsulation"
   ]
  },
  {
   "cell_type": "markdown",
   "id": "adb0785d-2379-4068-86e4-70048106ec8c",
   "metadata": {},
   "source": [
    "# DATA ABSTRACTION : Extracting data from ABSTRACTED pakages "
   ]
  },
  {
   "cell_type": "markdown",
   "id": "8ae214f9-4831-4950-bf8c-ee1bcf96089d",
   "metadata": {},
   "source": [
    "# <font color=\"Orange\">Polymorphism</font>"
   ]
  },
  {
   "cell_type": "code",
   "execution_count": 111,
   "id": "3700ca16-68d0-4442-af18-b607858747c7",
   "metadata": {},
   "outputs": [],
   "source": [
    "# Duck Typing\n",
    "\n",
    "class Pycharm:\n",
    "    def compile(self):\n",
    "        print(\"Complies and Runs\")\n",
    "\n",
    "class IDE:\n",
    "    def work(self, ide):\n",
    "        ide.compile()"
   ]
  },
  {
   "cell_type": "code",
   "execution_count": 112,
   "id": "b50254ec-9b36-4716-9685-51ae81f6601a",
   "metadata": {},
   "outputs": [],
   "source": [
    "ide = Pycharm()"
   ]
  },
  {
   "cell_type": "code",
   "execution_count": 113,
   "id": "aec8b7ee-8099-4667-bcfc-0b9e67d02143",
   "metadata": {},
   "outputs": [],
   "source": [
    "x = IDE()"
   ]
  },
  {
   "cell_type": "code",
   "execution_count": 114,
   "id": "bf9d5016-acff-4e06-886c-a62d039103d4",
   "metadata": {},
   "outputs": [
    {
     "name": "stdout",
     "output_type": "stream",
     "text": [
      "Complies and Runs\n"
     ]
    }
   ],
   "source": [
    "x.work(ide)"
   ]
  },
  {
   "cell_type": "code",
   "execution_count": 115,
   "id": "8c9d0e60-d3e6-46d8-84d0-91cd2bfc81f5",
   "metadata": {},
   "outputs": [],
   "source": [
    "# Method Overloading\n",
    "\n",
    "class A:\n",
    "    def sum(self, a=None, b=None, c=None):\n",
    "        if a !=None and b != None and c != None:\n",
    "            s = a + b + c\n",
    "        elif a!= None and b!= None:\n",
    "            s = a + b\n",
    "        else:\n",
    "            s = a\n",
    "        return s"
   ]
  },
  {
   "cell_type": "code",
   "execution_count": 116,
   "id": "9f5f703c-94fa-4b36-bea3-77085d9c8141",
   "metadata": {},
   "outputs": [],
   "source": [
    "a = A()"
   ]
  },
  {
   "cell_type": "code",
   "execution_count": 117,
   "id": "6e3ea834-8613-466b-b982-e2cd26cdc5a0",
   "metadata": {},
   "outputs": [
    {
     "data": {
      "text/plain": [
       "1"
      ]
     },
     "execution_count": 117,
     "metadata": {},
     "output_type": "execute_result"
    }
   ],
   "source": [
    "a.sum(1)"
   ]
  },
  {
   "cell_type": "code",
   "execution_count": 118,
   "id": "ff115255-a803-4a5a-a3de-93ad0b5ac672",
   "metadata": {},
   "outputs": [
    {
     "data": {
      "text/plain": [
       "6"
      ]
     },
     "execution_count": 118,
     "metadata": {},
     "output_type": "execute_result"
    }
   ],
   "source": [
    "a.sum(1, 2, 3)"
   ]
  },
  {
   "cell_type": "code",
   "execution_count": 119,
   "id": "8b861a08-d61f-408a-9133-ea2ea9afc6b0",
   "metadata": {},
   "outputs": [
    {
     "data": {
      "text/plain": [
       "3"
      ]
     },
     "execution_count": 119,
     "metadata": {},
     "output_type": "execute_result"
    }
   ],
   "source": [
    "a.sum(1, 2)"
   ]
  },
  {
   "cell_type": "code",
   "execution_count": 120,
   "id": "41751f68-9ad8-40ac-98e6-3d27559f6ffc",
   "metadata": {},
   "outputs": [],
   "source": [
    "# Method Overriding\n",
    "class A:\n",
    "    \n",
    "    def show(self):\n",
    "        print(\"in A Show\")\n",
    "class B(A):\n",
    "    \n",
    "    def show(self):\n",
    "        print(\"in B Show\")"
   ]
  },
  {
   "cell_type": "code",
   "execution_count": 121,
   "id": "ec448a35-7893-41d3-aaa4-b1d972a853dd",
   "metadata": {},
   "outputs": [
    {
     "name": "stdout",
     "output_type": "stream",
     "text": [
      "in B Show\n"
     ]
    }
   ],
   "source": [
    "b = B()\n",
    "b.show()"
   ]
  },
  {
   "cell_type": "code",
   "execution_count": 122,
   "id": "aa1eaf18-92d3-4230-b00f-22afff0044ac",
   "metadata": {},
   "outputs": [],
   "source": [
    "# Operator Overloading:\n",
    "class Student:\n",
    "    \n",
    "    def __init__(self, m1, m2):\n",
    "        self.m1 = m1\n",
    "        self.m2 = m2\n",
    "    \n",
    "    def __add__(self, other):\n",
    "        m1 = self.m1 + other.m1\n",
    "        m2 = self.m2 + other.m2\n",
    "        s3 = Student(m1, m2)\n",
    "        \n",
    "        return s3"
   ]
  },
  {
   "cell_type": "code",
   "execution_count": 123,
   "id": "4069a1a4-4498-4af8-b220-634bf4c8889d",
   "metadata": {},
   "outputs": [],
   "source": [
    "m1 = Student(2, 3)\n",
    "m2 = Student(5, 3)"
   ]
  },
  {
   "cell_type": "code",
   "execution_count": 124,
   "id": "551b4fc0-e73e-4232-a2e8-1434658f4af8",
   "metadata": {},
   "outputs": [],
   "source": [
    "s3 = m1+m2"
   ]
  },
  {
   "cell_type": "code",
   "execution_count": 125,
   "id": "0056f887-fc84-4a62-9805-c6265f0077bc",
   "metadata": {},
   "outputs": [
    {
     "name": "stdout",
     "output_type": "stream",
     "text": [
      "7 6\n"
     ]
    }
   ],
   "source": [
    "print(s3.m1, s3.m2)"
   ]
  },
  {
   "cell_type": "code",
   "execution_count": null,
   "id": "0f264adc-1e23-4c79-ac38-0537923c8d4e",
   "metadata": {},
   "outputs": [],
   "source": []
  }
 ],
 "metadata": {
  "kernelspec": {
   "display_name": "Python 3",
   "language": "python",
   "name": "python3"
  },
  "language_info": {
   "codemirror_mode": {
    "name": "ipython",
    "version": 3
   },
   "file_extension": ".py",
   "mimetype": "text/x-python",
   "name": "python",
   "nbconvert_exporter": "python",
   "pygments_lexer": "ipython3",
   "version": "3.8.8"
  }
 },
 "nbformat": 4,
 "nbformat_minor": 5
}
