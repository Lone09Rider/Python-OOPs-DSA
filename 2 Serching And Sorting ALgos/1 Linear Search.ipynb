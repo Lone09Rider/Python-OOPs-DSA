{
 "cells": [
  {
   "cell_type": "code",
   "execution_count": 1,
   "id": "5196afc9",
   "metadata": {},
   "outputs": [],
   "source": [
    "def Linear_Search(arr, ele):\n",
    "    l = len(arr)\n",
    "    print(\"INDEX : ELEMENT\")\n",
    "    for i in range(l):\n",
    "        if arr[i] == ele:\n",
    "            print(i, \":\", ele)"
   ]
  },
  {
   "cell_type": "code",
   "execution_count": 2,
   "id": "61e157cc",
   "metadata": {},
   "outputs": [
    {
     "name": "stdout",
     "output_type": "stream",
     "text": [
      "Enter value You want to Search : 8\n"
     ]
    }
   ],
   "source": [
    "arr = [10, 2, 8, 20, 40, 15, 25, 8]\n",
    "ele = int(input(\"Enter value You want to Search : \"))"
   ]
  },
  {
   "cell_type": "code",
   "execution_count": 3,
   "id": "665eb773",
   "metadata": {},
   "outputs": [
    {
     "name": "stdout",
     "output_type": "stream",
     "text": [
      "8\n"
     ]
    }
   ],
   "source": [
    "length = len(arr)\n",
    "print(length)"
   ]
  },
  {
   "cell_type": "code",
   "execution_count": 4,
   "id": "b244c2b3",
   "metadata": {
    "scrolled": true
   },
   "outputs": [
    {
     "name": "stdout",
     "output_type": "stream",
     "text": [
      "INDEX : ELEMENT\n",
      "2 : 8\n",
      "7 : 8\n"
     ]
    }
   ],
   "source": [
    "Linear_Search(arr, ele)"
   ]
  },
  {
   "cell_type": "code",
   "execution_count": null,
   "id": "bb483258",
   "metadata": {},
   "outputs": [],
   "source": []
  }
 ],
 "metadata": {
  "kernelspec": {
   "display_name": "Python 3 (ipykernel)",
   "language": "python",
   "name": "python3"
  },
  "language_info": {
   "codemirror_mode": {
    "name": "ipython",
    "version": 3
   },
   "file_extension": ".py",
   "mimetype": "text/x-python",
   "name": "python",
   "nbconvert_exporter": "python",
   "pygments_lexer": "ipython3",
   "version": "3.9.7"
  }
 },
 "nbformat": 4,
 "nbformat_minor": 5
}
