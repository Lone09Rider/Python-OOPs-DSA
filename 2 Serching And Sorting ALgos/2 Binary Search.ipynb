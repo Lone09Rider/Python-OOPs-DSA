{
 "cells": [
  {
   "cell_type": "markdown",
   "id": "f416bea0",
   "metadata": {},
   "source": [
    "# <font color=\"red\">Array or List should be <u>SHORTED</u></font>"
   ]
  },
  {
   "cell_type": "code",
   "execution_count": 1,
   "id": "69edef1d",
   "metadata": {},
   "outputs": [],
   "source": [
    "def Binary_Search(arr, ele):\n",
    "    start = arr[0]\n",
    "    end = len(arr)-1\n",
    "    while(start<=end):\n",
    "        mid = (start+end)//2\n",
    "        \n",
    "        if arr[mid] < ele:\n",
    "            start = mid+1\n",
    "        elif arr[mid] > ele:\n",
    "            end = mid-1\n",
    "        else:\n",
    "            return mid\n",
    "    return -1"
   ]
  },
  {
   "cell_type": "code",
   "execution_count": 2,
   "id": "10384fef",
   "metadata": {},
   "outputs": [],
   "source": [
    "arr = [2, 3, 10, 20, 40]\n",
    "ele = 10"
   ]
  },
  {
   "cell_type": "code",
   "execution_count": 3,
   "id": "15e3b081",
   "metadata": {},
   "outputs": [
    {
     "data": {
      "text/plain": [
       "2"
      ]
     },
     "execution_count": 3,
     "metadata": {},
     "output_type": "execute_result"
    }
   ],
   "source": [
    "Binary_Search(arr, ele)"
   ]
  },
  {
   "cell_type": "code",
   "execution_count": null,
   "id": "44669d62",
   "metadata": {},
   "outputs": [],
   "source": []
  }
 ],
 "metadata": {
  "kernelspec": {
   "display_name": "Python 3 (ipykernel)",
   "language": "python",
   "name": "python3"
  },
  "language_info": {
   "codemirror_mode": {
    "name": "ipython",
    "version": 3
   },
   "file_extension": ".py",
   "mimetype": "text/x-python",
   "name": "python",
   "nbconvert_exporter": "python",
   "pygments_lexer": "ipython3",
   "version": "3.9.7"
  }
 },
 "nbformat": 4,
 "nbformat_minor": 5
}
