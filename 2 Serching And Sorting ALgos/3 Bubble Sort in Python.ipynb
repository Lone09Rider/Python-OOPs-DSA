{
 "cells": [
  {
   "cell_type": "code",
   "execution_count": 1,
   "id": "f4994266",
   "metadata": {},
   "outputs": [],
   "source": [
    "def Bubble_Sort(arr):\n",
    "    l = len(arr)\n",
    "    for i in range(l-1):\n",
    "        for j in range(0, l-i-1):\n",
    "            if arr[j] > arr[j +1]:\n",
    "                arr[j], arr[j+1] = arr[j+1] ,arr[j]"
   ]
  },
  {
   "cell_type": "code",
   "execution_count": 2,
   "id": "9a5742d1",
   "metadata": {},
   "outputs": [],
   "source": [
    "arr = [1, 2, 4, 3, 5,40, 10, 99, 66]"
   ]
  },
  {
   "cell_type": "code",
   "execution_count": 3,
   "id": "4a686af0",
   "metadata": {},
   "outputs": [],
   "source": [
    "Bubble_Sort(arr)"
   ]
  },
  {
   "cell_type": "code",
   "execution_count": 4,
   "id": "13c5d367",
   "metadata": {},
   "outputs": [
    {
     "data": {
      "text/plain": [
       "[1, 2, 3, 4, 5, 10, 40, 66, 99]"
      ]
     },
     "execution_count": 4,
     "metadata": {},
     "output_type": "execute_result"
    }
   ],
   "source": [
    "arr"
   ]
  },
  {
   "cell_type": "code",
   "execution_count": null,
   "id": "6ca99cca",
   "metadata": {},
   "outputs": [],
   "source": []
  }
 ],
 "metadata": {
  "kernelspec": {
   "display_name": "Python 3 (ipykernel)",
   "language": "python",
   "name": "python3"
  },
  "language_info": {
   "codemirror_mode": {
    "name": "ipython",
    "version": 3
   },
   "file_extension": ".py",
   "mimetype": "text/x-python",
   "name": "python",
   "nbconvert_exporter": "python",
   "pygments_lexer": "ipython3",
   "version": "3.9.7"
  }
 },
 "nbformat": 4,
 "nbformat_minor": 5
}
