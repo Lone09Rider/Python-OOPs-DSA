{
 "cells": [
  {
   "cell_type": "code",
   "execution_count": 1,
   "id": "e4415483",
   "metadata": {},
   "outputs": [],
   "source": [
    "def Selection_Sort(arr):\n",
    "    for i in range(len(arr)):\n",
    "        mid_ind = i\n",
    "        for j in range(i+1, len(arr)):\n",
    "            if arr[mid_ind] > j:\n",
    "                mid_ind = j\n",
    "        arr[i], arr[mid_ind] = arr[mid_ind], arr[i]"
   ]
  },
  {
   "cell_type": "code",
   "execution_count": 2,
   "id": "0fbfbf7d",
   "metadata": {},
   "outputs": [],
   "source": [
    "arr = [10, 19, 2, 3, 5, 4, 8, 6]"
   ]
  },
  {
   "cell_type": "code",
   "execution_count": 3,
   "id": "3d2ce430",
   "metadata": {},
   "outputs": [],
   "source": [
    "Selection_Sort(arr)"
   ]
  },
  {
   "cell_type": "code",
   "execution_count": 4,
   "id": "c67feaa2",
   "metadata": {},
   "outputs": [
    {
     "data": {
      "text/plain": [
       "[2, 3, 5, 4, 6, 10, 19, 8]"
      ]
     },
     "execution_count": 4,
     "metadata": {},
     "output_type": "execute_result"
    }
   ],
   "source": [
    "arr"
   ]
  },
  {
   "cell_type": "code",
   "execution_count": null,
   "id": "d80313a0",
   "metadata": {},
   "outputs": [],
   "source": []
  }
 ],
 "metadata": {
  "kernelspec": {
   "display_name": "Python 3 (ipykernel)",
   "language": "python",
   "name": "python3"
  },
  "language_info": {
   "codemirror_mode": {
    "name": "ipython",
    "version": 3
   },
   "file_extension": ".py",
   "mimetype": "text/x-python",
   "name": "python",
   "nbconvert_exporter": "python",
   "pygments_lexer": "ipython3",
   "version": "3.9.7"
  }
 },
 "nbformat": 4,
 "nbformat_minor": 5
}
