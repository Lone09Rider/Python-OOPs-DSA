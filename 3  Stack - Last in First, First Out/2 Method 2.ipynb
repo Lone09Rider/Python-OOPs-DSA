{
 "cells": [
  {
   "cell_type": "code",
   "execution_count": 1,
   "id": "22c49079",
   "metadata": {},
   "outputs": [],
   "source": [
    "from collections import deque"
   ]
  },
  {
   "cell_type": "code",
   "execution_count": 2,
   "id": "b026022f",
   "metadata": {},
   "outputs": [],
   "source": [
    "stack = deque()"
   ]
  },
  {
   "cell_type": "code",
   "execution_count": 3,
   "id": "82281c12",
   "metadata": {},
   "outputs": [],
   "source": [
    "stack.append(\"a\")\n",
    "stack.append(\"b\")\n",
    "stack.append(\"c\")"
   ]
  },
  {
   "cell_type": "code",
   "execution_count": 4,
   "id": "ec81c90f",
   "metadata": {},
   "outputs": [
    {
     "name": "stdout",
     "output_type": "stream",
     "text": [
      "Stack is:\n",
      " deque(['a', 'b', 'c'])\n"
     ]
    }
   ],
   "source": [
    "print(\"Stack is:\\n\", stack)"
   ]
  },
  {
   "cell_type": "code",
   "execution_count": 5,
   "id": "8b8f5760",
   "metadata": {},
   "outputs": [
    {
     "name": "stdout",
     "output_type": "stream",
     "text": [
      "Elements now popped from stack:\n",
      "c\n",
      "b\n",
      "a\n"
     ]
    }
   ],
   "source": [
    "print('Elements now popped from stack:')\n",
    "print(stack.pop())\n",
    "print(stack.pop())\n",
    "print(stack.pop())"
   ]
  },
  {
   "cell_type": "code",
   "execution_count": 6,
   "id": "1b39ed70",
   "metadata": {},
   "outputs": [
    {
     "name": "stdout",
     "output_type": "stream",
     "text": [
      "Now thw stack is:\n",
      " deque([])\n"
     ]
    }
   ],
   "source": [
    "print(\"Now thw stack is:\\n\", stack)"
   ]
  },
  {
   "cell_type": "code",
   "execution_count": null,
   "id": "b43664bb",
   "metadata": {},
   "outputs": [],
   "source": []
  }
 ],
 "metadata": {
  "kernelspec": {
   "display_name": "Python 3 (ipykernel)",
   "language": "python",
   "name": "python3"
  },
  "language_info": {
   "codemirror_mode": {
    "name": "ipython",
    "version": 3
   },
   "file_extension": ".py",
   "mimetype": "text/x-python",
   "name": "python",
   "nbconvert_exporter": "python",
   "pygments_lexer": "ipython3",
   "version": "3.9.7"
  }
 },
 "nbformat": 4,
 "nbformat_minor": 5
}
