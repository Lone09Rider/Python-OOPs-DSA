{
 "cells": [
  {
   "cell_type": "code",
   "execution_count": 1,
   "id": "b3a28287",
   "metadata": {},
   "outputs": [],
   "source": [
    "from queue import LifoQueue"
   ]
  },
  {
   "cell_type": "code",
   "execution_count": 2,
   "id": "a8d7b68e",
   "metadata": {},
   "outputs": [],
   "source": [
    "stack = LifoQueue(maxsize=3)"
   ]
  },
  {
   "cell_type": "code",
   "execution_count": 3,
   "id": "3a98fe73",
   "metadata": {},
   "outputs": [
    {
     "name": "stdout",
     "output_type": "stream",
     "text": [
      "0\n"
     ]
    }
   ],
   "source": [
    "print(stack.qsize())"
   ]
  },
  {
   "cell_type": "code",
   "execution_count": 4,
   "id": "13c28801",
   "metadata": {},
   "outputs": [],
   "source": [
    "stack.put('a')\n",
    "stack.put('b')\n",
    "stack.put('c')"
   ]
  },
  {
   "cell_type": "code",
   "execution_count": 5,
   "id": "910eb4b1",
   "metadata": {},
   "outputs": [
    {
     "name": "stdout",
     "output_type": "stream",
     "text": [
      "Full:  True\n",
      "Size:  3\n"
     ]
    }
   ],
   "source": [
    "print(\"Full: \", stack.full())\n",
    "print(\"Size: \", stack.qsize())"
   ]
  },
  {
   "cell_type": "code",
   "execution_count": 6,
   "id": "31670e1a",
   "metadata": {},
   "outputs": [
    {
     "name": "stdout",
     "output_type": "stream",
     "text": [
      "Elements popped from the stack\n",
      "c\n",
      "b\n",
      "a\n"
     ]
    }
   ],
   "source": [
    "print('Elements popped from the stack')\n",
    "print(stack.get())\n",
    "print(stack.get())\n",
    "print(stack.get())"
   ]
  },
  {
   "cell_type": "code",
   "execution_count": 7,
   "id": "aba3dac2",
   "metadata": {},
   "outputs": [
    {
     "name": "stdout",
     "output_type": "stream",
     "text": [
      "\n",
      "Empty:  True\n"
     ]
    }
   ],
   "source": [
    "print(\"\\nEmpty: \", stack.empty())"
   ]
  },
  {
   "cell_type": "code",
   "execution_count": null,
   "id": "d0dbd243",
   "metadata": {},
   "outputs": [],
   "source": []
  }
 ],
 "metadata": {
  "kernelspec": {
   "display_name": "Python 3 (ipykernel)",
   "language": "python",
   "name": "python3"
  },
  "language_info": {
   "codemirror_mode": {
    "name": "ipython",
    "version": 3
   },
   "file_extension": ".py",
   "mimetype": "text/x-python",
   "name": "python",
   "nbconvert_exporter": "python",
   "pygments_lexer": "ipython3",
   "version": "3.9.7"
  }
 },
 "nbformat": 4,
 "nbformat_minor": 5
}
