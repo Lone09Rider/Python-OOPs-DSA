{
 "cells": [
  {
   "cell_type": "code",
   "execution_count": 1,
   "id": "6548f068",
   "metadata": {},
   "outputs": [
    {
     "name": "stdout",
     "output_type": "stream",
     "text": [
      "Elements in the circular queue are: 14 22 13 -6 \n",
      "Deleted value =  14\n",
      "Deleted value =  22\n",
      "Elements in the circular queue are: 13 -6 \n"
     ]
    }
   ],
   "source": [
    "class CircularQueue():\n",
    " \n",
    "    def __init__(self, size):\n",
    "        self.size = size\n",
    "         \n",
    "        self.queue = [None for i in range(size)]\n",
    "        self.front = self.rear = -1\n",
    " \n",
    "    def enqueue(self, data):\n",
    "         \n",
    "        if ((self.rear + 1) % self.size == self.front):\n",
    "            print(\" Queue is Full\\n\")\n",
    "             \n",
    "        elif (self.front == -1):\n",
    "            self.front = 0\n",
    "            self.rear = 0\n",
    "            self.queue[self.rear] = data\n",
    "        else:\n",
    "             \n",
    "            self.rear = (self.rear + 1) % self.size\n",
    "            self.queue[self.rear] = data\n",
    "             \n",
    "    def dequeue(self):\n",
    "        if (self.front == -1): \n",
    "            print (\"Queue is Empty\\n\")\n",
    "             \n",
    "\n",
    "        elif (self.front == self.rear):\n",
    "            temp=self.queue[self.front]\n",
    "            self.front = -1\n",
    "            self.rear = -1\n",
    "            return temp\n",
    "        else:\n",
    "            temp = self.queue[self.front]\n",
    "            self.front = (self.front + 1) % self.size\n",
    "            return temp\n",
    " \n",
    "    def display(self):\n",
    "     \n",
    "        if(self.front == -1):\n",
    "            print (\"Queue is Empty\")\n",
    " \n",
    "        elif (self.rear >= self.front):\n",
    "            print(\"Elements in the circular queue are:\",\n",
    "                                              end = \" \")\n",
    "            for i in range(self.front, self.rear + 1):\n",
    "                print(self.queue[i], end = \" \")\n",
    "            print ()\n",
    " \n",
    "        else:\n",
    "            print (\"Elements in Circular Queue are:\",\n",
    "                                           end = \" \")\n",
    "            for i in range(self.front, self.size):\n",
    "                print(self.queue[i], end = \" \")\n",
    "            for i in range(0, self.rear + 1):\n",
    "                print(self.queue[i], end = \" \")\n",
    "            print ()\n",
    " \n",
    "        if ((self.rear + 1) % self.size == self.front):\n",
    "            print(\"Queue is Full\")\n",
    "\n",
    "ob = CircularQueue(5)\n",
    "ob.enqueue(14)\n",
    "ob.enqueue(22)\n",
    "ob.enqueue(13)\n",
    "ob.enqueue(-6)\n",
    "ob.display()\n",
    "print (\"Deleted value = \", ob.dequeue())\n",
    "print (\"Deleted value = \", ob.dequeue())\n",
    "ob.display()\n",
    "ob.enqueue(9)\n",
    "ob.enqueue(20)\n",
    "ob.enqueue(5)"
   ]
  },
  {
   "cell_type": "code",
   "execution_count": null,
   "id": "51c04f49",
   "metadata": {},
   "outputs": [],
   "source": [
    " "
   ]
  }
 ],
 "metadata": {
  "kernelspec": {
   "display_name": "Python 3 (ipykernel)",
   "language": "python",
   "name": "python3"
  },
  "language_info": {
   "codemirror_mode": {
    "name": "ipython",
    "version": 3
   },
   "file_extension": ".py",
   "mimetype": "text/x-python",
   "name": "python",
   "nbconvert_exporter": "python",
   "pygments_lexer": "ipython3",
   "version": "3.9.7"
  }
 },
 "nbformat": 4,
 "nbformat_minor": 5
}
